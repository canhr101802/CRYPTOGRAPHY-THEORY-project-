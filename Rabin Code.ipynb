{
 "cells": [
  {
   "cell_type": "code",
   "execution_count": 1,
   "id": "considered-zimbabwe",
   "metadata": {},
   "outputs": [
    {
     "name": "stdout",
     "output_type": "stream",
     "text": [
      "public_key = 8549\n",
      "private_key = (83, 103)\n"
     ]
    }
   ],
   "source": [
    "%matplotlib inline\n",
    "%matplotlib notebook\n",
    "# Nhap 2 so q , p\n",
    "q = 103\n",
    "p = 83\n",
    "\n",
    "n = p*q #public_key\n",
    "public_key = n\n",
    "private_key = [p,q]\n",
    "print(\"public_key =\", n)\n",
    "print(\"private_key =\", (p,q))"
   ]
  },
  {
   "cell_type": "code",
   "execution_count": 2,
   "id": "conscious-wyoming",
   "metadata": {},
   "outputs": [],
   "source": [
    "def dec2bin(s) :\n",
    "    #print(s)\n",
    "    sb = \"\"\n",
    "    while (s > 0) :\n",
    "        sb = sb + str(s%2)\n",
    "        s = s // 2  \n",
    "    return \"\".join(reversed(sb))\n",
    "#dec2bin(5)"
   ]
  },
  {
   "cell_type": "code",
   "execution_count": 3,
   "id": "floating-moderator",
   "metadata": {},
   "outputs": [],
   "source": [
    "def bin2dec(a):\n",
    "    t = 0\n",
    "    #b = \"\".join(reversed(a))\n",
    "    for i in range(len(a)):\n",
    "        t += int(a[-i-1])*pow(2,i)\n",
    "        \n",
    "    return t \n",
    "#bin2dec('10101010')"
   ]
  },
  {
   "cell_type": "code",
   "execution_count": 4,
   "id": "optimum-green",
   "metadata": {},
   "outputs": [],
   "source": [
    "def power_modulo(x , n , m) :  #x^n mod m\n",
    "    p = 1 \n",
    "    H = dec2bin(n)\n",
    "    for i in range(len(H)) :\n",
    "        p = (p*p)%m\n",
    "        if (H[i] == '1') : \n",
    "            p = (p*x) % m \n",
    "    return p \n",
    "#power_modulo(23,2,7)"
   ]
  },
  {
   "cell_type": "code",
   "execution_count": 5,
   "id": "prescription-chapel",
   "metadata": {},
   "outputs": [
    {
     "data": {
      "text/plain": [
       "(2, -3)"
      ]
     },
     "execution_count": 5,
     "metadata": {},
     "output_type": "execute_result"
    }
   ],
   "source": [
    "def ext_gcd(a,b):\n",
    "    r1, r2 = a, b\n",
    "    s1, t1 = 1, 0\n",
    "    s2, t2 = 0, 1\n",
    "    while (r2 != 0):\n",
    "        q = r1 // r2 # chia lấy phần nguyên\n",
    "        r = r1 % r2 # chia lấy phần dư\n",
    "        s, t = s1 - q*s2, t1 - q*t2\n",
    "        r1 = r2\n",
    "        s1, t1 = s2, t2\n",
    "        r2 = r\n",
    "        s2, t2 = s, t\n",
    "    return (s1, t1) # m = gcd(a,b) = xm * a + ym * b\n",
    "ext_gcd(11,7)"
   ]
  },
  {
   "cell_type": "code",
   "execution_count": 6,
   "id": "unknown-psychiatry",
   "metadata": {},
   "outputs": [],
   "source": [
    "#Hàm tạo đặc điểm\n",
    "def create_characteristic(plain_text):\n",
    "    p1 = dec2bin(plain_text)\n",
    "    t = p1 + p1[-6:] #6 bit lặp lại\n",
    "    return t"
   ]
  },
  {
   "cell_type": "code",
   "execution_count": 7,
   "id": "divided-chaos",
   "metadata": {},
   "outputs": [],
   "source": [
    "def recognize(rc_text) :  \n",
    "    for i in rc_text :\n",
    "        cuoi = i[-6:]\n",
    "        if i[-12:-6] == cuoi:\n",
    "            return bin2dec(i[:-6])    \n",
    "        else: continue\n",
    "#recognize(['1100100', '101010001', '100000101', '10110000'])"
   ]
  },
  {
   "cell_type": "code",
   "execution_count": 8,
   "id": "immune-cherry",
   "metadata": {},
   "outputs": [],
   "source": [
    "#Hàm mật mã hóa\n",
    "def encrypt(plain_txt,public_key):\n",
    "    \n",
    "    plain_text = bin2dec(create_characteristic(plain_txt))\n",
    "    cipher_text = pow(plain_text,2) % public_key\n",
    "    return cipher_text"
   ]
  },
  {
   "cell_type": "code",
   "execution_count": 9,
   "id": "painted-movie",
   "metadata": {},
   "outputs": [],
   "source": [
    "def decryption(c,p,q): #11,7\n",
    "    a,b = ext_gcd(p,q) #2 ,-3\n",
    "    p1 = int((p+1)/4) #3\n",
    "    r = power_modulo(c , p1 , p) #3\n",
    "    q1 = int((q+1)/4) #2\n",
    "    s = power_modulo(c , q1 , q) #1\n",
    "    x = (a*p*s + b*q*r) % n \n",
    "    y = (a*p*s - b*q*r) % n\n",
    "    m = [dec2bin(x) , dec2bin(-x%n) , dec2bin(y) , dec2bin(-y%n)]\n",
    "    '''print(dec2bin(m[0]))\n",
    "    print(dec2bin(m[1]))\n",
    "    print(dec2bin(m[2]))\n",
    "    print(dec2bin(m[3]))'''\n",
    "    return (m)\n",
    "#decryption(71,11,7)"
   ]
  },
  {
   "cell_type": "code",
   "execution_count": 10,
   "id": "micro-teaching",
   "metadata": {},
   "outputs": [],
   "source": [
    "#recognize(rc_text)"
   ]
  },
  {
   "cell_type": "code",
   "execution_count": 11,
   "id": "aquatic-circulation",
   "metadata": {},
   "outputs": [
    {
     "name": "stdout",
     "output_type": "stream",
     "text": [
      "Nhap M = \n",
      "Ly thuyet mat ma that bo ich . Em cam on thay a !\n",
      "ɟ໫ɞᚃᕔᱲ໫ᒮᚃɞ΋ͅᚃɞ΋ͅɞᚃᕔͅᚃɞႍᑰɞῧᵲᕔɞ᣻ɞࢳ΋ɞᵲͅ΋ɞᑰయɞᚃᕔͅ໫ɞͅɞٿ\n",
      "Ly thuyet mat ma that bo ich . Em cam on thay a !\n"
     ]
    }
   ],
   "source": [
    "print(\"Nhap M = \") \n",
    "M = input()\n",
    "cipher_text = ''\n",
    "cipher_text1 = []\n",
    "\n",
    "for i in range (len(M)):\n",
    "    N = ord(M[i])  #xét từng phẩn tử của chuỗi\n",
    "    #print(N)\n",
    "    C = encrypt(N,public_key)    #mật mã hóa      \n",
    "    #print(C)\n",
    "    cipher_text1.append(chr(C))\n",
    "    cipher_text += chr(C)     #trả về chuỗi cipher text\n",
    "    \n",
    "print(cipher_text)   \n",
    "#print(cipher_text1)\n",
    "\n",
    "recover_text = ''\n",
    "for u in cipher_text1:\n",
    "    t = ord(u)\n",
    "    #print(t)\n",
    "    R = decryption(t,private_key[0],private_key[1])\n",
    "    #print(R)\n",
    "    re_text = chr(recognize(R))\n",
    "    #print(recognize(R))\n",
    "    recover_text += re_text\n",
    "    \n",
    "print(recover_text)"
   ]
  },
  {
   "cell_type": "code",
   "execution_count": null,
   "id": "occupational-expansion",
   "metadata": {},
   "outputs": [],
   "source": []
  },
  {
   "cell_type": "code",
   "execution_count": null,
   "id": "center-separation",
   "metadata": {},
   "outputs": [],
   "source": []
  }
 ],
 "metadata": {
  "kernelspec": {
   "display_name": "Python 3",
   "language": "python",
   "name": "python3"
  },
  "language_info": {
   "codemirror_mode": {
    "name": "ipython",
    "version": 3
   },
   "file_extension": ".py",
   "mimetype": "text/x-python",
   "name": "python",
   "nbconvert_exporter": "python",
   "pygments_lexer": "ipython3",
   "version": "3.8.8"
  }
 },
 "nbformat": 4,
 "nbformat_minor": 5
}
